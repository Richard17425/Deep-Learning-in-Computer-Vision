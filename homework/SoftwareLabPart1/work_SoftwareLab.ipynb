{
 "cells": [
  {
   "attachments": {},
   "cell_type": "markdown",
   "metadata": {},
   "source": [
    "# Homework\n",
    "\n",
    "In this portion of the Problem Set, you will gain experience building a CNN for image\n",
    "classification on the MNIST dataset -- a true rite of passage for deep learning and computer\n",
    "vision! Your code should follow this general outline:\n"
   ]
  },
  {
   "attachments": {},
   "cell_type": "markdown",
   "metadata": {},
   "source": [
    "### 1. Download the data. Implement a data loader class to load the dataset. (5 points)"
   ]
  },
  {
   "cell_type": "code",
   "execution_count": 1,
   "metadata": {},
   "outputs": [
    {
     "name": "stdout",
     "output_type": "stream",
     "text": [
      "Using cuba device\n"
     ]
    }
   ],
   "source": [
    "import numpy as np \n",
    "import matplotlib.pyplot as plt\n",
    "\n",
    "#PyTorch - Importing the Libraries\n",
    "import torch\n",
    "import torch.nn as nn\n",
    "import torchvision               #主要用来构建计算机视觉模型\n",
    "import torchvision.transforms    #用来对图像进行变换(裁切，旋转之类)\n",
    "\n",
    "\n",
    "transforms = torchvision.transforms.Compose([torchvision.transforms.ToTensor()])\n",
    "train_dataset = torchvision.datasets.MNIST(root='./traindata/', train=True, transform=transforms, download=True)  \n",
    "test_dataset = torchvision.datasets.MNIST(root='./testdata/',train=False, transform=transforms, download=True)  \n",
    "device = 'cuba' if torch.cuda.is_available()  else 'cpu'\n",
    "print('Using {} device'.format(device))"
   ]
  },
  {
   "cell_type": "code",
   "execution_count": 2,
   "metadata": {},
   "outputs": [
    {
     "name": "stdout",
     "output_type": "stream",
     "text": [
      "tensor(5)\n"
     ]
    },
    {
     "data": {
      "image/png": "[encoded data removed]",
      "text/plain": [
       "<Figure size 432x288 with 1 Axes>"
      ]
     },
     "metadata": {
      "needs_background": "light"
     },
     "output_type": "display_data"
    }
   ],
   "source": [
    "# Loading the Data\n",
    "def imshowPytorch(img):\n",
    "    npimg = img.numpy()\n",
    "    plt.imshow(np.transpose(npimg, (1, 2, 0)))  # H x W x color_channel\n",
    "train_loader = torch.utils.data.DataLoader(dataset=train_dataset,\n",
    "                                           batch_size=32, \n",
    "                                           shuffle=False)\n",
    "test_loader = torch.utils.data.DataLoader(dataset=test_dataset,\n",
    "                                           batch_size=32, \n",
    "                                           shuffle=False)\n",
    "                                           \n",
    "data_iter = iter(train_loader)\n",
    "images, label = next(data_iter)  # images are 32 x 1 x 28 x 28\n",
    "imshowPytorch(torchvision.utils.make_grid(images[0]))\n",
    "print(label[0])"
   ]
  },
  {
   "attachments": {},
   "cell_type": "markdown",
   "metadata": {},
   "source": [
    "### 2. Define the model. We suggest you start with 3 convolutional layers with 24, 48, 64 filters/feature maps, respectively. Each convolutional layer will have 5x5 filters with 2x2 pooling and ReLu activation. Finally, use a fully connected layer to map features to output. (10 points)\n"
   ]
  },
  {
   "cell_type": "code",
   "execution_count": 15,
   "metadata": {},
   "outputs": [],
   "source": [
    "#PyTorch - Building the Model\n",
    "class NeuralNet(nn.Module):\n",
    "    def __init__(self, num_of_class):\n",
    "        super(NeuralNet, self).__init__()\n",
    "        self.cnn_model = nn.Sequential(\n",
    "            nn.Conv2d(1, 24, kernel_size=5, stride=1, padding=2),\n",
    "            nn.ReLU(),\n",
    "            nn.AvgPool2d(kernel_size=2, stride=2),\n",
    "            nn.Conv2d(24, 48, kernel_size=5, stride=1, padding=2),\n",
    "            nn.ReLU(),\n",
    "            nn.AvgPool2d(kernel_size=2, stride=2),\n",
    "            nn.Conv2d(48, 64, kernel_size=5, stride=1, padding=2),\n",
    "            nn.ReLU(),\n",
    "            nn.AvgPool2d(kernel_size=2, stride=2)\n",
    "        )\n",
    "        self.fc_model = nn.Sequential(\n",
    "            nn.Linear(64*3*3,120),\n",
    "            nn.ReLU(),\n",
    "            nn.Linear(120,84),\n",
    "            nn.ReLU(),\n",
    "        )\n",
    "        self.classifier = nn.Linear(84, num_of_class)\n",
    "\n",
    "    def forward(self, x):\n",
    "        x = self.cnn_model(x)  # BS x 64 x 5 x 5\n",
    "        x = x.view(-1,64*3*3)  # 64 x 5 x 5 --> 1600 x 1    \n",
    "        x = self.fc_model(x)\n",
    "        x = self.classifier(x)\n",
    "        return x"
   ]
  },
  {
   "cell_type": "code",
   "execution_count": 16,
   "metadata": {},
   "outputs": [
    {
     "data": {
      "text/plain": [
       "NeuralNet(\n",
       "  (cnn_model): Sequential(\n",
       "    (0): Conv2d(1, 24, kernel_size=(5, 5), stride=(1, 1), padding=(2, 2))\n",
       "    (1): ReLU()\n",
       "    (2): AvgPool2d(kernel_size=2, stride=2, padding=0)\n",
       "    (3): Conv2d(24, 48, kernel_size=(5, 5), stride=(1, 1), padding=(2, 2))\n",
       "    (4): ReLU()\n",
       "    (5): AvgPool2d(kernel_size=2, stride=2, padding=0)\n",
       "    (6): Conv2d(48, 64, kernel_size=(5, 5), stride=(1, 1), padding=(2, 2))\n",
       "    (7): ReLU()\n",
       "    (8): AvgPool2d(kernel_size=2, stride=2, padding=0)\n",
       "  )\n",
       "  (fc_model): Sequential(\n",
       "    (0): Linear(in_features=576, out_features=120, bias=True)\n",
       "    (1): ReLU()\n",
       "    (2): Linear(in_features=120, out_features=84, bias=True)\n",
       "    (3): ReLU()\n",
       "  )\n",
       "  (classifier): Linear(in_features=84, out_features=10, bias=True)\n",
       ")"
      ]
     },
     "execution_count": 16,
     "metadata": {},
     "output_type": "execute_result"
    }
   ],
   "source": [
    "#PyTorch - Visualizing the Model\n",
    "modelpy = NeuralNet(10)\n",
    "modelpy"
   ]
  },
  {
   "attachments": {},
   "cell_type": "markdown",
   "metadata": {},
   "source": [
    "### 3. Utilize a gradient-based optimizer. (5 points)\n"
   ]
  },
  {
   "cell_type": "code",
   "execution_count": 17,
   "metadata": {},
   "outputs": [],
   "source": [
    "criterion = nn.CrossEntropyLoss()\n",
    "optim = torch.optim.Adam(modelpy.parameters())"
   ]
  },
  {
   "attachments": {},
   "cell_type": "markdown",
   "metadata": {},
   "source": [
    "### 4. Train the model! (10 points)\n"
   ]
  },
  {
   "cell_type": "markdown",
   "metadata": {},
   "source": []
  },
  {
   "cell_type": "code",
   "execution_count": 18,
   "metadata": {},
   "outputs": [
    {
     "name": "stdout",
     "output_type": "stream",
     "text": [
      "Epoch 0: Loss: 0.27000493106932066\n",
      "Epoch 1: Loss: 0.07612020640416692\n",
      "Epoch 2: Loss: 0.05154861491517125\n",
      "Epoch 3: Loss: 0.03864439514058225\n",
      "Epoch 4: Loss: 0.029694711768523726\n"
     ]
    }
   ],
   "source": [
    "#PyTorch - Training the Model\n",
    "for e in range(5):\n",
    "    # define the loss value after the epoch\n",
    "    losss = 0.0\n",
    "    number_of_sub_epoch = 0\n",
    "    \n",
    "    # loop for every training batch (one epoch)\n",
    "    for images, labels in train_loader:\n",
    "        #create the output from the network\n",
    "        out = modelpy(images)\n",
    "        # count the loss function\n",
    "        loss = criterion(out, labels)\n",
    "        # in pytorch you have assign the zero for gradien in any sub epoch\n",
    "        optim.zero_grad()\n",
    "        # count the backpropagation\n",
    "        loss.backward()\n",
    "        # learning\n",
    "        optim.step()\n",
    "        # add new value to the main loss\n",
    "        losss += loss.item()\n",
    "        number_of_sub_epoch += 1\n",
    "    print(\"Epoch {}: Loss: {}\".format(e, losss / number_of_sub_epoch))"
   ]
  },
  {
   "attachments": {},
   "cell_type": "markdown",
   "metadata": {},
   "source": [
    "### 5. Evaluate the trained model on an independent test set. What was its performance? What accuracy did your model achieve, and anything in particular that it had trouble with? (10 points)"
   ]
  },
  {
   "cell_type": "code",
   "execution_count": 19,
   "metadata": {},
   "outputs": [
    {
     "name": "stdout",
     "output_type": "stream",
     "text": [
      "Test Accuracy of the model on the 10000 test images: 98% with PyTorch\n"
     ]
    }
   ],
   "source": [
    "#PyTorch - Comparing the Results\n",
    "correct = 0\n",
    "total = 0\n",
    "modelpy.eval()  # all of your layers are in eval stage, important for layers such as batchnorm or dropout --> will mess up the result if the network has batchnorm or dropout layers, e.g. RESNET\n",
    "\n",
    "with torch.no_grad(): # all of computation graphs will not update gradients because we will not do any backpropagation --> speed up, doesn't hurt if not called\n",
    "  for images, labels in test_loader:\n",
    "      outputs = modelpy(images)\n",
    "      _, predicted = torch.max(outputs.data, 1)  # outputs.data in shape of BS x 10  -->  BS x 1\n",
    "      total += labels.size(0)\n",
    "      correct += (predicted == labels).sum()\n",
    "print('Test Accuracy of the model on the {} test images: {}% with PyTorch'.format(total, 100 * correct // total))\n"
   ]
  },
  {
   "attachments": {},
   "cell_type": "markdown",
   "metadata": {},
   "source": [
    "### **6. Provide a summary of any architectural modifications made, plots of the loss evolution from (4), and plots of your results from (5). Please save your code and results for submission. (20 points)**"
   ]
  },
  {
   "cell_type": "code",
   "execution_count": null,
   "metadata": {},
   "outputs": [],
   "source": []
  }
 ],
 "metadata": {
  "kernelspec": {
   "display_name": "base",
   "language": "python",
   "name": "python3"
  },
  "language_info": {
   "codemirror_mode": {
    "name": "ipython",
    "version": 3
   },
   "file_extension": ".py",
   "mimetype": "text/x-python",
   "name": "python",
   "nbconvert_exporter": "python",
   "pygments_lexer": "ipython3",
   "version": "3.9.12"
  },
  "orig_nbformat": 4,
  "vscode": {
   "interpreter": {
    "hash": "e42634819b8c191a5d07eaf23810ff32516dd8d3875f28ec3e488928fbd3c187"
   }
  }
 },
 "nbformat": 4,
 "nbformat_minor": 2
}
