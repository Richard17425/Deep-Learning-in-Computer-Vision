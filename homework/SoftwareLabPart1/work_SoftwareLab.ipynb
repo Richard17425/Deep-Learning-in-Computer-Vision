{
 "cells": [
  {
   "attachments": {},
   "cell_type": "markdown",
   "metadata": {},
   "source": [
    "# Homework\n",
    "\n",
    "In this portion of the Problem Set, you will gain experience building a CNN for image\n",
    "classification on the MNIST dataset -- a true rite of passage for deep learning and computer\n",
    "vision! Your code should follow this general outline:\n"
   ]
  },
  {
   "attachments": {},
   "cell_type": "markdown",
   "metadata": {},
   "source": [
    "### 1. Download the data. Implement a data loader class to load the dataset. (5 points)"
   ]
  },
  {
   "cell_type": "code",
   "execution_count": 1,
   "metadata": {},
   "outputs": [],
   "source": [
    "import numpy as np \n",
    "import matplotlib.pyplot as plt\n",
    "\n",
    "#PyTorch - Importing the Libraries\n",
    "import torch\n",
    "import torch.nn as nn\n",
    "import torchvision               #主要用来构建计算机视觉模型\n",
    "import torchvision.transforms    #用来对图像进行变换(裁切，旋转之类)\n",
    "\n",
    "\n",
    "transforms = torchvision.transforms.Compose([torchvision.transforms.ToTensor()])\n",
    "train_dataset = torchvision.datasets.MNIST\n"
   ]
  },
  {
   "attachments": {},
   "cell_type": "markdown",
   "metadata": {},
   "source": [
    "### 2. Define the model. We suggest you start with 3 convolutional layers with 24, 48, 64 filters/feature maps, respectively. Each convolutional layer will have 5x5 filters with 2x2 pooling and ReLu activation. Finally, use a fully connected layer to map features to output. (10 points)\n"
   ]
  },
  {
   "attachments": {},
   "cell_type": "markdown",
   "metadata": {},
   "source": [
    "### 3. Utilize a gradient-based optimizer. (5 points)\n"
   ]
  },
  {
   "attachments": {},
   "cell_type": "markdown",
   "metadata": {},
   "source": [
    "### 4. Train the model! (10 points)\n"
   ]
  },
  {
   "attachments": {},
   "cell_type": "markdown",
   "metadata": {},
   "source": [
    "### 5. Evaluate the trained model on an independent test set. What was its performance? What accuracy did your model achieve, and anything in particular that it had trouble with? (10 points)"
   ]
  },
  {
   "attachments": {},
   "cell_type": "markdown",
   "metadata": {},
   "source": [
    "### **6. Provide a summary of any architectural modifications made, plots of the loss evolution from (4), and plots of your results from (5). Please save your code and results for submission. (20 points)**"
   ]
  }
 ],
 "metadata": {
  "kernelspec": {
   "display_name": "base",
   "language": "python",
   "name": "python3"
  },
  "language_info": {
   "codemirror_mode": {
    "name": "ipython",
    "version": 3
   },
   "file_extension": ".py",
   "mimetype": "text/x-python",
   "name": "python",
   "nbconvert_exporter": "python",
   "pygments_lexer": "ipython3",
   "version": "3.9.12"
  },
  "orig_nbformat": 4,
  "vscode": {
   "interpreter": {
    "hash": "e42634819b8c191a5d07eaf23810ff32516dd8d3875f28ec3e488928fbd3c187"
   }
  }
 },
 "nbformat": 4,
 "nbformat_minor": 2
}
